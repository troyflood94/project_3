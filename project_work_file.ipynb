{
 "cells": [
  {
   "cell_type": "code",
   "execution_count": null,
   "metadata": {},
   "outputs": [],
   "source": [
    "from pathlib import Path\n",
    "import pandas as pd\n",
    "import matplotlib.pyplot as plt"
   ]
  },
  {
   "cell_type": "code",
   "execution_count": null,
   "metadata": {},
   "outputs": [],
   "source": [
    "#connect to the IMDB raw data\n",
    "file_path=Path('IMBD.csv')\n",
    "#create Dataframe\n",
    "IMBD_df=pd.read_csv(file_path,encoding='UTF8')\n",
    "#get rid of double entries in title\n",
    "IMBD_df=IMBD_df.drop_duplicates(subset='title')\n",
    "IMBD_df\n"
   ]
  },
  {
   "cell_type": "code",
   "execution_count": null,
   "metadata": {},
   "outputs": [],
   "source": [
    "#create path to MOSP CSV\n",
    "file_path_2=Path('MoviesOnStreamingPlatforms_updated.csv')\n",
    "#create the dataframe\n",
    "mosp_df=pd.read_csv(file_path_2,encoding=\"UTF8\")\n",
    "#Capitalize the title column\n",
    "mosp_df=mosp_df.rename(columns={\"Title\":'title'})\n",
    "#remove duplicate titles\n",
    "mosp_df=mosp_df.drop_duplicates(subset='title')\n",
    "mosp_df\n"
   ]
  },
  {
   "cell_type": "code",
   "execution_count": null,
   "metadata": {},
   "outputs": [],
   "source": [
    "#merge the Dataframes on title\n",
    "merged_df=pd.merge(IMBD_df,mosp_df,on='title')\n",
    "#drop once again the duplicates in title\n",
    "merged_df=merged_df.drop_duplicates(subset='title')\n",
    "merged_df"
   ]
  },
  {
   "cell_type": "code",
   "execution_count": null,
   "metadata": {},
   "outputs": [],
   "source": [
    "#create a primary genre column, take the first listed genre of each movie with multiple genres listed. This makes a graph much more readable when plotted.\n",
    "merged_df['primary_genre'] = merged_df['Genres'].apply(lambda x: x.split(',')[0] if isinstance(x, str) else None)\n"
   ]
  },
  {
   "cell_type": "code",
   "execution_count": null,
   "metadata": {},
   "outputs": [],
   "source": [
    "\n",
    "# Drop rows where 'primary_genre' or 'rating' is None or NaN\n",
    "filtered_df = merged_df.dropna(subset=['primary_genre', 'rating'])\n",
    "\n",
    "# Plotting the bar chart\n",
    "plt.bar(filtered_df['primary_genre'], filtered_df['rating'])\n",
    "plt.xticks(rotation=45)\n",
    "plt.show()"
   ]
  },
  {
   "cell_type": "code",
   "execution_count": null,
   "metadata": {},
   "outputs": [],
   "source": [
    "#drop unnecesary columns \n",
    "skinny_df=merged_df.drop(columns=['genre','Genres','votes','ID','Hulu','Prime Video','Disney+','Type','Netflix','Rotten Tomatoes','stars','description'])\n",
    "#if the rating column has an NA, take the value in the IMDB column and replace it.\n",
    "skinny_df['rating'] = skinny_df['rating'].fillna(skinny_df['IMDb'])\n",
    "#drop more columns\n",
    "no_imdb_skinny_df=skinny_df.drop(columns=['IMDb','Directors','certificate'])\n",
    "#create a new column with a clean title using the primary_genre column\n",
    "no_imdb_skinny_df['Genre']=no_imdb_skinny_df['primary_genre']\n",
    "#drop the primary genre column now that its info is copied over\n",
    "unorganized_df=no_imdb_skinny_df.drop(columns='primary_genre')\n",
    "#rearrange the columns to a bit neater way\n",
    "organized_df=unorganized_df[['title','Genre','Year','rating','Language','Country','Runtime']]\n",
    "organized_df"
   ]
  },
  {
   "cell_type": "code",
   "execution_count": null,
   "metadata": {},
   "outputs": [],
   "source": [
    "#write the files to a csv\n",
    "organized_df.to_csv('Concise_Data.csv', index=False)\n",
    "filtered_df.to_csv(\"filtered_movies.csv\",index=False)"
   ]
  }
 ],
 "metadata": {
  "kernelspec": {
   "display_name": "PythonData_2024_04",
   "language": "python",
   "name": "python3"
  },
  "language_info": {
   "codemirror_mode": {
    "name": "ipython",
    "version": 3
   },
   "file_extension": ".py",
   "mimetype": "text/x-python",
   "name": "python",
   "nbconvert_exporter": "python",
   "pygments_lexer": "ipython3",
   "version": "3.12.3"
  }
 },
 "nbformat": 4,
 "nbformat_minor": 2
}
