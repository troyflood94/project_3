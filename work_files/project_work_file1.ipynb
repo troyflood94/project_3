{
 "cells": [
  {
   "cell_type": "code",
   "execution_count": 8,
   "metadata": {},
   "outputs": [],
   "source": [
    "#import dependencies\n",
    "from pathlib import Path\n",
    "import pandas as pd\n",
    "import matplotlib.pyplot as plt\n",
    "import polars as pl\n"
   ]
  },
  {
   "cell_type": "code",
   "execution_count": 4,
   "metadata": {},
   "outputs": [],
   "source": [
    "#create a file path and read the CSV\n",
    "file_path=Path('../raw_data/IMBD.csv')\n",
    "IMBD_df=pd.read_csv(file_path,encoding='UTF8')\n",
    "#drop duplicate title entries\n",
    "IMBD_df=IMBD_df.drop_duplicates(subset='title')\n",
    "#drop nan values\n",
    "IMBD_df.dropna(inplace=True)\n",
    "#take the primary genre of movies listed with multiple genres.\n",
    "IMBD_df['primary_genre'] = IMBD_df['genre'].apply(lambda x: x.split(',')[0] if isinstance(x, str) else None)\n",
    "\n",
    "#define bins for votes\n",
    "bins = [0,20000,40000,60000,80000,100000]\n",
    "#name each bracket \n",
    "group_names = [\"0-20000\",\"20000-40000\", \"40000-60000\",\"60000-80000\" ,\"80000-100000\"]\n",
    "merged_df_new = IMBD_df.copy()\n",
    "merged_df_new[\"votes\"] = merged_df_new[\"votes\"].str.replace(\",\",\"\")\n",
    "merged_df_new['votes'] = pd.to_numeric(merged_df_new['votes'], errors='coerce')\n",
    "\n",
    "# Use `pd.cut` to categorize spending based on the bins.\n",
    "merged_df_new[\"vote_Range\"] = pd.cut(merged_df_new[\"votes\"],bins,labels=group_names)\n",
    "\n",
    "#rearrange columns and drop nas in the vote_range\n",
    "merged_df_cleaned = merged_df_new[['title','year','duration','primary_genre','rating','vote_Range']]\n",
    "merged_df_cleaned = merged_df_cleaned.dropna(subset=['vote_Range'])\n",
    "\n",
    "#write to CSV\n",
    "merged_df_cleaned.to_csv('../clean_data_sets/IMBD_Cleaned.csv', index=False)"
   ]
  },
  {
   "cell_type": "code",
   "execution_count": 7,
   "metadata": {},
   "outputs": [],
   "source": [
    "#create filepath and read CSV\n",
    "file_path_2=Path('../raw_data/MoviesOnStreamingPlatforms_updated.csv')\n",
    "mosp_df=pd.read_csv(file_path_2,encoding=\"UTF8\")\n",
    "#change name of title column\n",
    "mosp_df=mosp_df.rename(columns={\"Title\":'title'})\n",
    "mosp_df=mosp_df.drop_duplicates(subset='title')\n",
    "mosp_df.dropna(inplace=True)\n",
    "#define bins and label them in groups\n",
    "bins = [0,30,60,90,120,180,240]\n",
    "group_names = ['0-30','30-60','60-90','90-120','120-180','180-240']\n",
    "df_runtime = mosp_df.copy()\n",
    "#make runtime a numeric value for further analysis\n",
    "df_runtime['Runtime'] = pd.to_numeric(df_runtime['Runtime'], errors='coerce')\n",
    "\n",
    "#take the primary genre of a movie, in lieu of listing it with multiple genres\n",
    "df_runtime['primary_genre'] = df_runtime['Genres'].apply(lambda x: x.split(',')[0] if isinstance(x, str) else None)\n",
    "# Use `pd.cut` to categorize spending based on the bins.\n",
    "df_runtime[\"Runtime_Range\"] = pd.cut(df_runtime['Runtime'],bins,labels=group_names)\n",
    "#rearrange columns\n",
    "merged_df_clean = df_runtime[['ID','title','Year','Age','IMDb','primary_genre','Netflix','Hulu','Prime Video','Disney+','Type','Runtime_Range']] \n",
    "#further cleaning and creating ID column for compatibility in SQL\n",
    "merged_df_clean = merged_df_clean.dropna(subset=['Runtime_Range'])\n",
    "merged_df_clean = merged_df_clean[merged_df_clean['title'].isin(merged_df_cleaned['title'])]\n",
    "merged_df_clean['ID'] = range(1, len(merged_df_clean) + 1)\n",
    "#write to a CSV\n",
    "merged_df_clean.to_csv('../clean_data_sets/Movies_Cleaned.csv', index=False)\n"
   ]
  },
  {
   "cell_type": "code",
   "execution_count": 10,
   "metadata": {},
   "outputs": [],
   "source": [
    "#use polars to extract data from CSV\n",
    "polars_df=pl.read_csv('../clean_data_sets/Concise_Data.csv')\n",
    "#transform data into Dataframe\n",
    "new_runtime_df=polars_df[['title','rating','Runtime']]\n",
    "#write the polars dataframe to a CSV.\n",
    "new_runtime_df.write_csv(\"../clean_data_sets/Runtime_Data.csv\")"
   ]
  }
 ],
 "metadata": {
  "kernelspec": {
   "display_name": "PythonData_2024_04",
   "language": "python",
   "name": "python3"
  },
  "language_info": {
   "codemirror_mode": {
    "name": "ipython",
    "version": 3
   },
   "file_extension": ".py",
   "mimetype": "text/x-python",
   "name": "python",
   "nbconvert_exporter": "python",
   "pygments_lexer": "ipython3",
   "version": "3.12.3"
  }
 },
 "nbformat": 4,
 "nbformat_minor": 2
}
